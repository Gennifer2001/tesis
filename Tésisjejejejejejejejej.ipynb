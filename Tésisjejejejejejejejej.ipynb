{
  "nbformat": 4,
  "nbformat_minor": 0,
  "metadata": {
    "colab": {
      "provenance": [],
      "include_colab_link": true
    },
    "kernelspec": {
      "name": "python3",
      "display_name": "Python 3"
    },
    "language_info": {
      "name": "python"
    }
  },
  "cells": [
    {
      "cell_type": "markdown",
      "metadata": {
        "id": "view-in-github",
        "colab_type": "text"
      },
      "source": [
        "<a href=\"https://colab.research.google.com/github/Gennifer2001/tesis/blob/main/T%C3%A9sisjejejejejejejejej.ipynb\" target=\"_parent\"><img src=\"https://colab.research.google.com/assets/colab-badge.svg\" alt=\"Open In Colab\"/></a>"
      ]
    },
    {
      "cell_type": "markdown",
      "source": [
        "_**OLA BIENVENIDA**_"
      ],
      "metadata": {
        "id": "viTW2XhZVV2J"
      }
    },
    {
      "cell_type": "code",
      "source": [
        "import scipy as sc\n"
      ],
      "metadata": {
        "id": "V3z8bn7qVVIc"
      },
      "execution_count": null,
      "outputs": []
    },
    {
      "cell_type": "code",
      "execution_count": null,
      "metadata": {
        "id": "i0yaI4QQVB7s"
      },
      "outputs": [],
      "source": []
    }
  ]
}